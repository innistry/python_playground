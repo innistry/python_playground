{
 "cells": [
  {
   "cell_type": "code",
   "execution_count": null,
   "metadata": {},
   "outputs": [],
   "source": [
    "import folium\n",
    "import pandas"
   ]
  },
  {
   "cell_type": "code",
   "execution_count": null,
   "metadata": {},
   "outputs": [],
   "source": [
    "map = folium.Map(\n",
    "    location=[48.98662340201759, -47.83750077063219],\n",
    "    zoom_start=4,\n",
    "    tiles='Stamen Terrain',\n",
    ")\n",
    "\n",
    "feature_group_my_life = folium.FeatureGroup(name='my_life')\n",
    "\n",
    "markers = [\n",
    "    {\n",
    "        \"location\": [59.958067512526746, 30.33278486692358],\n",
    "        \"name\": 'My home 2021'\n",
    "    },\n",
    "    {\n",
    "        \"location\": [59.96014928173088, 30.32536469920391],\n",
    "        \"name\": 'My work 2021'\n",
    "    },\n",
    "    {\n",
    "        \"location\": [59.903192337007646, 30.31503558578621],\n",
    "        \"name\": 'Kitty house 2021'\n",
    "    },\n",
    "]\n",
    "\n",
    "for marker in markers:\n",
    "    feature_group_my_life.add_child(folium.Marker(\n",
    "        location=marker[\"location\"],\n",
    "        popup=marker['name'],\n",
    "        icon=folium.Icon(\n",
    "            color='pink',\n",
    "            icon='glyphicon glyphicon-home',\n",
    "        )\n",
    "    ))\n",
    "\n",
    "feature_group_volcanoes = folium.FeatureGroup(name='volcanoes')\n",
    "\n",
    "volcanoes = pandas.read_csv('./Webmap_datasources/Volcanoes.csv')\n",
    "\n",
    "html = \"\"\"\n",
    "Volcano name:<br>\n",
    "<a href=\"https://www.google.com/search?q=%%22%s%%22\" target=\"_blank\">%s</a><br>\n",
    "Height: %s m\n",
    "\"\"\"\n",
    "\n",
    "def color_producer(elev: int):\n",
    "    if elev < 1000:\n",
    "        return 'green'\n",
    "    elif elev < 3000:\n",
    "        return 'orange'\n",
    "    else:\n",
    "        return 'red'\n",
    "\n",
    "for lat, lon, elev, name, in zip(volcanoes.LAT, volcanoes.LON, volcanoes.ELEV, volcanoes.NAME, ):\n",
    "    iframe = folium.IFrame(html=html % (\n",
    "        name, name, elev,\n",
    "    ), width=200, height=100)\n",
    "    feature_group_volcanoes.add_child(folium.CircleMarker(\n",
    "        location=[lat, lon],\n",
    "        popup=folium.Popup(iframe),\n",
    "        radius=12,\n",
    "        color='grey',\n",
    "        fill_color=color_producer(elev),\n",
    "        fill_opacity=0.6,\n",
    "    ))\n",
    "\n",
    "feature_group_population = folium.FeatureGroup(name='population')\n",
    "\n",
    "geo_json = folium.GeoJson(\n",
    "    open('./Webmap_datasources/world.json', 'r', encoding='utf-8-sig').read(),\n",
    "    style_function=lambda x: {\n",
    "        'fillColor': 'green' if x['properties']['POP2005'] < 10000000 else 'orange' if x['properties']['POP2005'] < 20000000 else 'red'\n",
    "    }\n",
    ")\n",
    "feature_group_population.add_child(geo_json)\n",
    "\n",
    "map.add_child(feature_group_my_life)\n",
    "map.add_child(feature_group_volcanoes)\n",
    "map.add_child(feature_group_population)\n",
    "map.add_child(folium.LayerControl())\n",
    "map.save('Map.html')\n"
   ]
  },
  {
   "cell_type": "code",
   "execution_count": null,
   "metadata": {},
   "outputs": [],
   "source": [
    "volcanoes\n",
    "# help(zip)"
   ]
  }
 ],
 "metadata": {
  "interpreter": {
   "hash": "aee8b7b246df8f9039afb4144a1f6fd8d2ca17a180786b69acc140d282b71a49"
  },
  "kernelspec": {
   "display_name": "Python 3.10.0 64-bit",
   "name": "python3"
  },
  "language_info": {
   "codemirror_mode": {
    "name": "ipython",
    "version": 3
   },
   "file_extension": ".py",
   "mimetype": "text/x-python",
   "name": "python",
   "nbconvert_exporter": "python",
   "pygments_lexer": "ipython3",
   "version": "3.10.0"
  },
  "orig_nbformat": 4
 },
 "nbformat": 4,
 "nbformat_minor": 2
}
