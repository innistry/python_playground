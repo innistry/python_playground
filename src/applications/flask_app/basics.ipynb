{
 "cells": [
  {
   "cell_type": "code",
   "execution_count": null,
   "metadata": {},
   "outputs": [],
   "source": [
    "\"\"\"\n",
    "python3 -m venv virtual\n",
    "./virtual/bin/pip3 install flask\n",
    "./virtual/bin/python3 src/app.py\n",
    "\"\"\"\n"
   ]
  }
 ],
 "metadata": {
  "language_info": {
   "name": "python"
  },
  "orig_nbformat": 4
 },
 "nbformat": 4,
 "nbformat_minor": 2
}
