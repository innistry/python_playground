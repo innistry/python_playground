{
 "cells": [
  {
   "cell_type": "markdown",
   "metadata": {},
   "source": [
    "## Data Analyze"
   ]
  },
  {
   "cell_type": "code",
   "execution_count": null,
   "metadata": {},
   "outputs": [],
   "source": [
    "from pandas import read_csv, options\n",
    "\n",
    "data = read_csv('../../input/reviews.csv')\n",
    "\n",
    "data.head()\n",
    "data.shape\n",
    "data.columns\n",
    "data.hist('Rating')\n",
    "\n",
    "data['Rating']\n",
    "data[['Rating', 'Course Name']]\n",
    "\n",
    "data.iloc[3]\n",
    "data.iloc[1:3]\n",
    "\n",
    "options.display.max_colwidth = 100 # To display \n",
    "data[['Rating', 'Course Name']].iloc[1:3]\n",
    "data['Timestamp'].iloc[2]\n",
    "data.at[2, 'Timestamp']\n"
   ]
  },
  {
   "cell_type": "code",
   "execution_count": null,
   "metadata": {},
   "outputs": [],
   "source": [
    "from pandas import read_csv\n",
    "from datetime import datetime\n",
    "from pytz import utc\n",
    "\n",
    "data = read_csv('../../input/reviews.csv', parse_dates=['Timestamp'])\n",
    "\n",
    "data[data['Rating'] < 4]\n",
    "data[data['Rating'] < 4].count()  # len()\n",
    "data[(data['Rating'] < 4) & (data['Course Name'] == 'The Python Mega Course: Build 10 Real World Applications')]\n",
    "data[data['Timestamp'] < datetime(2021, 4, 1, tzinfo=utc)]\n"
   ]
  },
  {
   "cell_type": "code",
   "execution_count": null,
   "metadata": {},
   "outputs": [],
   "source": [
    "from pandas import read_csv\n",
    "\n",
    "data = read_csv('../../input/reviews.csv', parse_dates=['Timestamp'])\n",
    "\n",
    "data['Rating'].mean()\n",
    "data[data['Course Name'] ==\n",
    "     'The Python Mega Course: Build 10 Real World Applications']['Rating'].mean()\n",
    "data[data['Comment'].isnull()]['Rating'].mean()\n",
    "data[data['Comment'].notnull()]['Rating'].count()\n",
    "data[data['Comment'].str.contains('accent', na=False)]['Rating'].mean()\n"
   ]
  },
  {
   "cell_type": "code",
   "execution_count": null,
   "metadata": {},
   "outputs": [],
   "source": [
    "from pandas import read_csv\n",
    "import matplotlib.pyplot as plt\n",
    "\n",
    "data = read_csv('../../input/reviews.csv', parse_dates=['Timestamp'])\n",
    "\n",
    "data['date'] = data['Timestamp'].dt.date\n",
    "day_avarage = data.groupby('date').mean()\n",
    "\n",
    "plt.figure(figsize=(25, 3))\n",
    "plt.plot(day_avarage.index, day_avarage['Rating'])\n"
   ]
  },
  {
   "cell_type": "code",
   "execution_count": null,
   "metadata": {},
   "outputs": [],
   "source": [
    "from pandas import read_csv\n",
    "import matplotlib.pyplot as plt\n",
    "\n",
    "data = read_csv('../../input/reviews.csv', parse_dates=['Timestamp'])\n",
    "\n",
    "data['week'] = data['Timestamp'].dt.strftime('%Y-%U')\n",
    "week_avarage = data.groupby('week').mean()\n",
    "\n",
    "plt.figure(figsize=(25, 3))\n",
    "plt.plot(week_avarage.index, week_avarage['Rating'])\n"
   ]
  },
  {
   "cell_type": "code",
   "execution_count": null,
   "metadata": {},
   "outputs": [],
   "source": [
    "from pandas import read_csv\n",
    "import matplotlib.pyplot as plt\n",
    "\n",
    "data = read_csv('../../input/reviews.csv', parse_dates=['Timestamp'])\n",
    "\n",
    "data['month'] = data['Timestamp'].dt.strftime('%Y-%m')\n",
    "month_avarage = data.groupby('month').mean()\n",
    "\n",
    "plt.figure(figsize=(25, 3))\n",
    "plt.plot(month_avarage.index, month_avarage['Rating'])\n"
   ]
  },
  {
   "cell_type": "code",
   "execution_count": null,
   "metadata": {},
   "outputs": [],
   "source": [
    "from pandas import read_csv\n",
    "\n",
    "data = read_csv('../../input/reviews.csv', parse_dates=['Timestamp'])\n",
    "\n",
    "data['month'] = data['Timestamp'].dt.strftime('%Y-%m')\n",
    "month_avarage_crs = data.groupby(['month', 'Course Name']).mean().unstack()\n",
    "\n",
    "month_avarage_crs.plot(figsize=(25, 8))\n"
   ]
  },
  {
   "cell_type": "code",
   "execution_count": null,
   "metadata": {},
   "outputs": [],
   "source": [
    "from pandas import read_csv\n",
    "\n",
    "data = read_csv('../../input/reviews.csv', parse_dates=['Timestamp'])\n",
    "\n",
    "data['weekday'] = data['Timestamp'].dt.strftime('%A')\n",
    "data['weekday_number'] = data['Timestamp'].dt.strftime('%w')\n",
    "\n",
    "weekday_avarage = data.groupby(['weekday', 'weekday_number']).mean()\n",
    "weekday_avarage = weekday_avarage.sort_values('weekday_number')\n",
    "\n",
    "weekday_avarage.plot(figsize=(25, 3))\n"
   ]
  },
  {
   "cell_type": "code",
   "execution_count": null,
   "metadata": {},
   "outputs": [],
   "source": [
    "from pandas import read_csv\n",
    "import matplotlib.pyplot as plt\n",
    "\n",
    "data = read_csv('../../input/reviews.csv', parse_dates=['Timestamp'])\n",
    "\n",
    "avarage = data.groupby(['Course Name'])['Rating'].count()\n",
    "\n",
    "plt.pie(avarage, labels=avarage.index)\n"
   ]
  }
 ],
 "metadata": {
  "interpreter": {
   "hash": "aee8b7b246df8f9039afb4144a1f6fd8d2ca17a180786b69acc140d282b71a49"
  },
  "kernelspec": {
   "display_name": "Python 3.10.0 64-bit",
   "name": "python3"
  },
  "language_info": {
   "codemirror_mode": {
    "name": "ipython",
    "version": 3
   },
   "file_extension": ".py",
   "mimetype": "text/x-python",
   "name": "python",
   "nbconvert_exporter": "python",
   "pygments_lexer": "ipython3",
   "version": "3.10.0"
  },
  "orig_nbformat": 4
 },
 "nbformat": 4,
 "nbformat_minor": 2
}
