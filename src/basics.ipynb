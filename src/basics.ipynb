{
 "cells": [
  {
   "cell_type": "code",
   "execution_count": null,
   "metadata": {},
   "outputs": [],
   "source": [
    "import time\n",
    "\n",
    "# dir(str)\n",
    "# dir(__builtins__)\n",
    "# help(int.bit_count)"
   ]
  },
  {
   "cell_type": "code",
   "execution_count": null,
   "metadata": {},
   "outputs": [],
   "source": [
    "day_hours = 24\n",
    "week_days = 7.3\n",
    "print(type(day_hours), type(week_days), day_hours * week_days, 2)"
   ]
  },
  {
   "cell_type": "code",
   "execution_count": null,
   "metadata": {},
   "outputs": [],
   "source": [
    "some_str: int = \"abcdef\"\n",
    "print(type(some_str), some_str[:3], f'23 {some_str}')"
   ]
  },
  {
   "cell_type": "code",
   "execution_count": null,
   "metadata": {},
   "outputs": [],
   "source": [
    "some_list = [1, 3, 4, 4]\n",
    "print(type(some_list), some_list, 'avr:', sum(\n",
    "    some_list) / len(some_list), some_list[1:3])"
   ]
  },
  {
   "cell_type": "code",
   "execution_count": null,
   "metadata": {},
   "outputs": [],
   "source": [
    "a = 'a'\n",
    "some_dir = {a: 5, \"b\": 7}\n",
    "print(type(some_dir), some_dir, some_dir.values())"
   ]
  },
  {
   "cell_type": "code",
   "execution_count": null,
   "metadata": {},
   "outputs": [],
   "source": [
    "some_tuple = (1, 2)\n",
    "print(type(some_tuple), some_tuple)"
   ]
  },
  {
   "cell_type": "code",
   "execution_count": null,
   "metadata": {},
   "outputs": [],
   "source": [
    "['abc', 'def', 'ghi', 'jkl', 'mno'][-2][-2]"
   ]
  },
  {
   "cell_type": "code",
   "execution_count": null,
   "metadata": {},
   "outputs": [],
   "source": [
    "int(input(\"Enter your experience in months: \")) / 12"
   ]
  },
  {
   "cell_type": "code",
   "execution_count": null,
   "metadata": {},
   "outputs": [],
   "source": [
    "temps = [10, 20, 15, 60]\n",
    "new_temps_1 = [temp / 10 for temp in temps if temp % 2 == 0]\n",
    "new_temps_2 = [temp / 10 if temp % 2 == 0 else 'asd' for temp in temps]\n",
    "print('Comprehension', new_temps_1, new_temps_2)"
   ]
  },
  {
   "cell_type": "code",
   "execution_count": null,
   "metadata": {},
   "outputs": [],
   "source": [
    "def sum_of(a, *args):\n",
    "    to_sum = list(args)\n",
    "    to_sum.append(a)\n",
    "    return sum(to_sum)\n",
    "\n",
    "print(type(sum_of), sum_of(1, 2, 3))"
   ]
  },
  {
   "cell_type": "code",
   "execution_count": null,
   "metadata": {},
   "outputs": [],
   "source": [
    "print('Sleeping...')\n",
    "time.sleep(1)\n",
    "print('Slept 1 sec')"
   ]
  },
  {
   "cell_type": "code",
   "execution_count": null,
   "metadata": {},
   "outputs": [],
   "source": [
    "def divide(a, b):\n",
    "    try:\n",
    "        return a / b\n",
    "    except:\n",
    "        return None\n",
    "\n",
    "\n",
    "print(divide(1, 0))\n",
    "print(divide(1, 2))\n",
    "print('End command')"
   ]
  }
 ],
 "metadata": {
  "interpreter": {
   "hash": "aee8b7b246df8f9039afb4144a1f6fd8d2ca17a180786b69acc140d282b71a49"
  },
  "kernelspec": {
   "display_name": "Python 3.10.0 64-bit",
   "name": "python3"
  },
  "language_info": {
   "codemirror_mode": {
    "name": "ipython",
    "version": 3
   },
   "file_extension": ".py",
   "mimetype": "text/x-python",
   "name": "python",
   "nbconvert_exporter": "python",
   "pygments_lexer": "ipython3",
   "version": "3.10.0"
  },
  "orig_nbformat": 4
 },
 "nbformat": 4,
 "nbformat_minor": 2
}
