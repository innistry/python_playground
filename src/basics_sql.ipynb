{
 "cells": [
  {
   "cell_type": "code",
   "execution_count": null,
   "metadata": {},
   "outputs": [],
   "source": [
    "import sqlite3\n",
    "\n",
    "\n",
    "def create_table(cursor):\n",
    "    cursor.execute(\n",
    "        'CREATE TABLE IF NOT EXISTS store (item TEXT, quantity INTEGER, price FLOAT)'\n",
    "    )\n",
    "    connect.commit()\n",
    "\n",
    "\n",
    "def insert(cursor, item: str, quantity: int, price: float):\n",
    "    cursor.execute(\n",
    "        'INSERT INTO store VALUES (?,?,?)',\n",
    "        (item, quantity, price)\n",
    "    )\n",
    "    connect.commit()\n",
    "\n",
    "\n",
    "def view(cursor):\n",
    "    cursor.execute(\n",
    "        'SELECT * FROM store'\n",
    "    )\n",
    "    return cursor.fetchall()\n",
    "\n",
    "\n",
    "def remove(cursor, item: str):\n",
    "    cursor.execute(\n",
    "        'DELETE FROM store WHERE item=?',\n",
    "        (item,)\n",
    "    )\n",
    "    connect.commit()\n",
    "\n",
    "\n",
    "def update(cursor, item: str, quantity):\n",
    "    cursor.execute(\n",
    "        'UPDATE store SET quantity=? WHERE item=?',\n",
    "        (quantity,item)\n",
    "    )\n",
    "    connect.commit()\n",
    "\n",
    "\n",
    "\n",
    "connect = sqlite3.connect('lite.db')\n",
    "cursor = connect.cursor()\n",
    "\n",
    "create_table(cursor)\n",
    "\n",
    "insert(cursor, 'Wine Glass', 8, 32.4)\n",
    "update(cursor, 'Wine Glass', 14)\n",
    "\n",
    "print(view(cursor))\n",
    "\n",
    "remove(cursor, item='Wine Glass')\n",
    "\n",
    "connect.close()\n"
   ]
  },
  {
   "cell_type": "code",
   "execution_count": null,
   "metadata": {},
   "outputs": [],
   "source": [
    "import psycopg2\n",
    "# Required to install PostgreSQL first\n",
    "\n",
    "print(2)"
   ]
  }
 ],
 "metadata": {
  "interpreter": {
   "hash": "aee8b7b246df8f9039afb4144a1f6fd8d2ca17a180786b69acc140d282b71a49"
  },
  "kernelspec": {
   "display_name": "Python 3.10.0 64-bit",
   "name": "python3"
  },
  "language_info": {
   "codemirror_mode": {
    "name": "ipython",
    "version": 3
   },
   "file_extension": ".py",
   "mimetype": "text/x-python",
   "name": "python",
   "nbconvert_exporter": "python",
   "pygments_lexer": "ipython3",
   "version": "3.10.0"
  },
  "orig_nbformat": 4
 },
 "nbformat": 4,
 "nbformat_minor": 2
}
