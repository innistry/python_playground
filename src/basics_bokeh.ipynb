{
 "cells": [
  {
   "cell_type": "code",
   "execution_count": null,
   "metadata": {},
   "outputs": [],
   "source": [
    "from bokeh.plotting import figure\n",
    "from bokeh.io import output_file, show\n",
    "\n",
    "x = [1, 5, 3, 6]\n",
    "y = [5, 3, 2]\n",
    "\n",
    "output_file('Line.html')\n",
    "\n",
    "f = figure()\n",
    "\n",
    "f.line(x, y)\n",
    "\n",
    "show(f)\n"
   ]
  },
  {
   "cell_type": "code",
   "execution_count": 1,
   "metadata": {},
   "outputs": [],
   "source": [
    "from bokeh.plotting import figure\n",
    "from bokeh.io import output_file, show\n",
    "import pandas\n",
    "\n",
    "df = pandas.read_csv('./input/bachelors.csv')\n",
    "\n",
    "output_file('Line_csv.html')\n",
    "\n",
    "f = figure()\n",
    "f.line(df['Year'], df['Engineering'])\n",
    "\n",
    "show(f)\n"
   ]
  },
  {
   "cell_type": "code",
   "execution_count": null,
   "metadata": {},
   "outputs": [],
   "source": [
    "# install_certifi.py\n",
    "#\n",
    "# sample script to install or update a set of default Root Certificates\n",
    "# for the ssl module.  Uses the certificates provided by the certifi package:\n",
    "#       https://pypi.python.org/pypi/certifi\n",
    "import os\n",
    "import os.path\n",
    "import ssl\n",
    "import stat\n",
    "import subprocess\n",
    "import sys\n",
    "STAT_0o775 = (stat.S_IRUSR | stat.S_IWUSR | stat.S_IXUSR\n",
    "              | stat.S_IRGRP | stat.S_IWGRP | stat.S_IXGRP\n",
    "              | stat.S_IROTH | stat.S_IXOTH)\n",
    "\n",
    "\n",
    "openssl_dir, openssl_cafile = os.path.split(\n",
    "    ssl.get_default_verify_paths().openssl_cafile)\n",
    "print(\" -- pip install --upgrade certifi\")\n",
    "subprocess.check_call([sys.executable,\n",
    "                        \"-E\", \"-s\", \"-m\", \"pip\", \"install\", \"--upgrade\", \"certifi\"])\n",
    "import certifi\n",
    "# change working directory to the default SSL directory\n",
    "os.chdir(openssl_dir)\n",
    "relpath_to_certifi_cafile = os.path.relpath(certifi.where())\n",
    "print(\" -- removing any existing file or link\")\n",
    "try:\n",
    "    os.remove(openssl_cafile)\n",
    "except FileNotFoundError:\n",
    "    pass\n",
    "print(\" -- creating symlink to certifi certificate bundle\")\n",
    "os.symlink(relpath_to_certifi_cafile, openssl_cafile)\n",
    "print(\" -- setting permissions\")\n",
    "os.chmod(openssl_cafile, STAT_0o775)\n",
    "print(\" -- update complete\")\n"
   ]
  },
  {
   "cell_type": "code",
   "execution_count": null,
   "metadata": {},
   "outputs": [],
   "source": [
    "from bokeh.plotting import figure, output_file, show\n",
    "import pandas\n",
    "\n",
    "import ssl\n",
    "ssl._create_default_https_context = ssl._create_unverified_context\n",
    "\n",
    "# df = pandas.read_csv(\n",
    "#     'https://www.google.com/finance/quote/ADBE:NASDAQ?startdate=Jan+01,+2009&enddate=Aug+2,+2012&output=csv',\n",
    "#     error_bad_lines=False,\n",
    "#     parse_dates=[\"Date\"],\n",
    "# )\n",
    "\n",
    "# df\n"
   ]
  },
  {
   "cell_type": "code",
   "execution_count": null,
   "metadata": {},
   "outputs": [],
   "source": []
  }
 ],
 "metadata": {
  "interpreter": {
   "hash": "aee8b7b246df8f9039afb4144a1f6fd8d2ca17a180786b69acc140d282b71a49"
  },
  "kernelspec": {
   "display_name": "Python 3.10.0 64-bit",
   "name": "python3"
  },
  "language_info": {
   "codemirror_mode": {
    "name": "ipython",
    "version": 3
   },
   "file_extension": ".py",
   "mimetype": "text/x-python",
   "name": "python",
   "nbconvert_exporter": "python",
   "pygments_lexer": "ipython3",
   "version": "3.10.0"
  },
  "orig_nbformat": 4
 },
 "nbformat": 4,
 "nbformat_minor": 2
}
